{
  "nbformat": 4,
  "nbformat_minor": 0,
  "metadata": {
    "colab": {
      "provenance": [],
      "toc_visible": true,
      "authorship_tag": "ABX9TyMdn0H7YH7w33eyRH6MCEk3",
      "include_colab_link": true
    },
    "kernelspec": {
      "name": "python3",
      "display_name": "Python 3"
    },
    "language_info": {
      "name": "python"
    }
  },
  "cells": [
    {
      "cell_type": "markdown",
      "metadata": {
        "id": "view-in-github",
        "colab_type": "text"
      },
      "source": [
        "<a href=\"https://colab.research.google.com/github/aadesh189/Python_DSA/blob/main/Queue.ipynb\" target=\"_parent\"><img src=\"https://colab.research.google.com/assets/colab-badge.svg\" alt=\"Open In Colab\"/></a>"
      ]
    },
    {
      "cell_type": "markdown",
      "source": [
        "# **Queue**\n",
        "\n",
        "It is a linear data strcture, where elements are inserted from one side and removed from another side.\n",
        "\n",
        "Queue will be open at both the end. That's way insertion and deletion is done by different end.\n",
        "\n",
        "The end where elements are added is called as back/rear/tail of the queue. The end where elements are removed is called as head/front of the queue.\n",
        "\n",
        "If Follows **FIFO - First in first out, LILO - Last in last out.**\n",
        "\n",
        "Operations in queue.\n",
        "\n",
        "1.   enqueue\n",
        "2.   dequeue\n",
        "3.   isFull\n",
        "4.   isEmpty\n",
        "\n",
        "\n",
        "---\n",
        "\n",
        "1. **enqueue**:- The processes of adding element in queue is known as enqueue. This can be done using append() on a list.\n",
        "\n",
        "        Time complexity - O(1)\n",
        "\n",
        "2. **dequeue**:- The process of removing element is called dequeue. This is done using pop() on a list.\n",
        "\n",
        "        Time complexity - O(n)\n",
        "\n",
        "3. **isFull**:- Checks whether the queue is full.  \n",
        "        \n",
        "        Time complexity - O(1)\n",
        "\n",
        "4. **isEmpty**:- Checks where the queue is empty.\n",
        "\n",
        "        Time complexity - O(1)\n",
        "        "
      ],
      "metadata": {
        "id": "Wc9ejOrKUnyZ"
      }
    },
    {
      "cell_type": "code",
      "source": [
        "queue=[]"
      ],
      "metadata": {
        "id": "DENXkWzwYK8Y"
      },
      "execution_count": 1,
      "outputs": []
    },
    {
      "cell_type": "code",
      "source": [
        "queue.append(10)\n",
        "queue.append(20)\n",
        "queue.append(30)"
      ],
      "metadata": {
        "id": "0sIZYVOTqrLh"
      },
      "execution_count": 3,
      "outputs": []
    },
    {
      "cell_type": "code",
      "source": [
        "queue"
      ],
      "metadata": {
        "colab": {
          "base_uri": "https://localhost:8080/"
        },
        "id": "eeoRzuhbq2Le",
        "outputId": "0d4b3d6a-4a4d-47a4-a439-a4145164ea03"
      },
      "execution_count": 4,
      "outputs": [
        {
          "output_type": "execute_result",
          "data": {
            "text/plain": [
              "[10, 10, 20, 30]"
            ]
          },
          "metadata": {},
          "execution_count": 4
        }
      ]
    },
    {
      "cell_type": "code",
      "source": [
        "queue.pop()"
      ],
      "metadata": {
        "colab": {
          "base_uri": "https://localhost:8080/"
        },
        "id": "H-P2plElq7Gv",
        "outputId": "1d09b4e1-c914-404e-f1f7-fb14e83f202b"
      },
      "execution_count": 5,
      "outputs": [
        {
          "output_type": "execute_result",
          "data": {
            "text/plain": [
              "30"
            ]
          },
          "metadata": {},
          "execution_count": 5
        }
      ]
    },
    {
      "cell_type": "code",
      "source": [
        "queue"
      ],
      "metadata": {
        "colab": {
          "base_uri": "https://localhost:8080/"
        },
        "id": "FtqaIYGhq88G",
        "outputId": "930618c2-5c10-415a-e66b-499c504a38f4"
      },
      "execution_count": 6,
      "outputs": [
        {
          "output_type": "execute_result",
          "data": {
            "text/plain": [
              "[10, 10, 20]"
            ]
          },
          "metadata": {},
          "execution_count": 6
        }
      ]
    },
    {
      "cell_type": "code",
      "source": [
        "#insertion from right to left\n",
        "queue=[]\n",
        "queue.insert(0,10)\n",
        "queue.insert(0,20)\n",
        "queue.insert(0,30)\n",
        "queue"
      ],
      "metadata": {
        "colab": {
          "base_uri": "https://localhost:8080/"
        },
        "id": "xc6ZYOjCq-Nw",
        "outputId": "ffd77a69-69f2-44a5-d56b-a4534e5ba58a"
      },
      "execution_count": 7,
      "outputs": [
        {
          "output_type": "execute_result",
          "data": {
            "text/plain": [
              "[30, 20, 10]"
            ]
          },
          "metadata": {},
          "execution_count": 7
        }
      ]
    },
    {
      "cell_type": "code",
      "source": [
        "queue.pop()"
      ],
      "metadata": {
        "colab": {
          "base_uri": "https://localhost:8080/"
        },
        "id": "8ccOxxXQrWSp",
        "outputId": "0e81e5a4-dd36-4a1f-ccc7-c3915429151a"
      },
      "execution_count": 8,
      "outputs": [
        {
          "output_type": "execute_result",
          "data": {
            "text/plain": [
              "10"
            ]
          },
          "metadata": {},
          "execution_count": 8
        }
      ]
    },
    {
      "cell_type": "code",
      "source": [
        "queue"
      ],
      "metadata": {
        "colab": {
          "base_uri": "https://localhost:8080/"
        },
        "id": "AFfxdciQraLd",
        "outputId": "7c04a316-4909-44ee-f0ac-b8508cf5ec13"
      },
      "execution_count": 9,
      "outputs": [
        {
          "output_type": "execute_result",
          "data": {
            "text/plain": [
              "[30, 20]"
            ]
          },
          "metadata": {},
          "execution_count": 9
        }
      ]
    },
    {
      "cell_type": "markdown",
      "source": [
        "# Implementation of Queue using list"
      ],
      "metadata": {
        "id": "RxaaLp4t1C9r"
      }
    },
    {
      "cell_type": "code",
      "source": [
        "queue = []\n",
        "def enqueu():\n",
        "  element = input(\"Enter the element: \")\n",
        "  queue.append(element)\n",
        "  return queue\n",
        "\n",
        "def dequeue():\n",
        "  if not queue:\n",
        "    print(\"Queue is empty\")\n",
        "  else:\n",
        "    e = queue.pop(0)\n",
        "    print(\"Removed element: \",e)\n",
        "\n",
        "def display():\n",
        "  print(queue)\n",
        "\n",
        "while True:\n",
        "  print(\"Select the operations\\n1. Add\\n2. Remove\\n3. Show\\n4. Quit\")\n",
        "  choice=int(input())\n",
        "  if choice==1:\n",
        "    enqueu()\n",
        "  elif choice==2:\n",
        "    dequeue()\n",
        "  elif choice==3:\n",
        "    display()\n",
        "  elif choice==4:\n",
        "    break\n",
        "  else:\n",
        "    print(\"Enter correct operation\")"
      ],
      "metadata": {
        "colab": {
          "base_uri": "https://localhost:8080/"
        },
        "id": "HaDJK_3v1JXM",
        "outputId": "2b8c1ae1-d6d4-491d-be25-dd4657b5eae1"
      },
      "execution_count": 12,
      "outputs": [
        {
          "name": "stdout",
          "output_type": "stream",
          "text": [
            "Select the operations\n",
            "1. Add\n",
            "2. Remove\n",
            "3. Show\n",
            "4. Quit\n",
            "3\n",
            "[]\n",
            "Select the operations\n",
            "1. Add\n",
            "2. Remove\n",
            "3. Show\n",
            "4. Quit\n",
            "1\n",
            "Enter the element: 10\n",
            "Select the operations\n",
            "1. Add\n",
            "2. Remove\n",
            "3. Show\n",
            "4. Quit\n",
            "1\n",
            "Enter the element: 20\n",
            "Select the operations\n",
            "1. Add\n",
            "2. Remove\n",
            "3. Show\n",
            "4. Quit\n",
            "1\n",
            "Enter the element: 30\n",
            "Select the operations\n",
            "1. Add\n",
            "2. Remove\n",
            "3. Show\n",
            "4. Quit\n",
            "3\n",
            "['10', '20', '30']\n",
            "Select the operations\n",
            "1. Add\n",
            "2. Remove\n",
            "3. Show\n",
            "4. Quit\n",
            "2\n",
            "Removed element:  10\n",
            "Select the operations\n",
            "1. Add\n",
            "2. Remove\n",
            "3. Show\n",
            "4. Quit\n",
            "3\n",
            "['20', '30']\n",
            "Select the operations\n",
            "1. Add\n",
            "2. Remove\n",
            "3. Show\n",
            "4. Quit\n",
            "4\n"
          ]
        }
      ]
    },
    {
      "cell_type": "markdown",
      "source": [
        "# Implementation of queue using collection module"
      ],
      "metadata": {
        "id": "TRnOiIBi3yu0"
      }
    },
    {
      "cell_type": "code",
      "source": [
        "# Insertion of element from left to right\n",
        "import collections\n",
        "q = collections.deque()\n",
        "print(type(q))\n",
        "\n",
        "q.appendleft(10)\n",
        "q.appendleft(20)\n",
        "q.appendleft(30)\n",
        "q.appendleft(40)\n",
        "print(q)"
      ],
      "metadata": {
        "colab": {
          "base_uri": "https://localhost:8080/"
        },
        "id": "SgdLMQPr34ga",
        "outputId": "efb0a5ed-ce1b-486b-fedc-36ca8b5de1cd"
      },
      "execution_count": 16,
      "outputs": [
        {
          "output_type": "stream",
          "name": "stdout",
          "text": [
            "<class 'collections.deque'>\n",
            "deque([40, 30, 20, 10])\n"
          ]
        }
      ]
    },
    {
      "cell_type": "code",
      "source": [
        "q.pop()\n",
        "print(q)"
      ],
      "metadata": {
        "colab": {
          "base_uri": "https://localhost:8080/"
        },
        "id": "ORTYocSl4So7",
        "outputId": "ad4b9522-f368-4473-fcaa-4057d7a7b406"
      },
      "execution_count": 17,
      "outputs": [
        {
          "output_type": "stream",
          "name": "stdout",
          "text": [
            "deque([40, 30, 20])\n"
          ]
        }
      ]
    },
    {
      "cell_type": "code",
      "source": [
        "#Insertion of element from right to left\n",
        "import collections\n",
        "q = collections.deque()"
      ],
      "metadata": {
        "id": "famQ03bl4hh5"
      },
      "execution_count": 18,
      "outputs": []
    },
    {
      "cell_type": "code",
      "source": [
        "q.append(10)\n",
        "q.append(20)\n",
        "q.append(30)\n",
        "q.append(40)\n",
        "print(q)"
      ],
      "metadata": {
        "colab": {
          "base_uri": "https://localhost:8080/"
        },
        "id": "Iou8FOHw43pg",
        "outputId": "747ae2dd-a0f1-4778-b1fd-9aed1f590921"
      },
      "execution_count": 29,
      "outputs": [
        {
          "output_type": "stream",
          "name": "stdout",
          "text": [
            "deque([10, 20, 30, 40])\n"
          ]
        }
      ]
    },
    {
      "cell_type": "code",
      "source": [
        "q.popleft()\n",
        "print(q)"
      ],
      "metadata": {
        "colab": {
          "base_uri": "https://localhost:8080/"
        },
        "id": "F6atZn8K4-ao",
        "outputId": "bc2f535b-16c1-4d95-e440-ac51f9e93938"
      },
      "execution_count": 30,
      "outputs": [
        {
          "output_type": "stream",
          "name": "stdout",
          "text": [
            "deque([20, 30, 40])\n"
          ]
        }
      ]
    },
    {
      "cell_type": "markdown",
      "source": [
        "# Implementation of queue using queue module"
      ],
      "metadata": {
        "id": "at-w-H8E5pam"
      }
    },
    {
      "cell_type": "code",
      "source": [
        "import queue\n",
        "q = queue.Queue(maxsize=0) #maxsize 0 means queue size is infinite\n",
        "q.put(10)\n",
        "q.put(20)\n",
        "q.put(30)\n",
        "print(q)"
      ],
      "metadata": {
        "colab": {
          "base_uri": "https://localhost:8080/"
        },
        "id": "GWAZomIB5vg0",
        "outputId": "c580a4f5-f843-4c41-d3e3-b1db47b03e4a"
      },
      "execution_count": 32,
      "outputs": [
        {
          "output_type": "stream",
          "name": "stdout",
          "text": [
            "<queue.Queue object at 0x7fc3725a20e0>\n"
          ]
        }
      ]
    },
    {
      "cell_type": "code",
      "source": [
        "q.get()"
      ],
      "metadata": {
        "colab": {
          "base_uri": "https://localhost:8080/"
        },
        "id": "egqMXgoQ63u4",
        "outputId": "75337e6e-9808-4092-b8a0-420a4906e387"
      },
      "execution_count": 33,
      "outputs": [
        {
          "output_type": "execute_result",
          "data": {
            "text/plain": [
              "10"
            ]
          },
          "metadata": {},
          "execution_count": 33
        }
      ]
    },
    {
      "cell_type": "markdown",
      "source": [
        "# **Proprity Queue**\n",
        "\n",
        "It is a queue where each element is assigned with prority. The queue always remove the element with the highest priority first(for a max priority queue) or the lowest priority (for a min priority queue)\n",
        "\n",
        "Prioprity queue is implemented using heap.\n",
        "\n",
        "\n",
        "\n",
        "1.   Insert (Enqueue): O(log n), where n is the number of elements in the priority queue. This is because the heap must be reorganized to maintain its heap property.\n",
        "2.   Remove (Dequeue): O(log n), since we need to reheapify the heap after removal.\n",
        "\n"
      ],
      "metadata": {
        "id": "CdWkjGYu8Td0"
      }
    },
    {
      "cell_type": "code",
      "source": [
        "import queue\n",
        "q = queue.PriorityQueue()\n",
        "q.put(10)\n",
        "q.put(60)\n",
        "q.put(30)\n",
        "q.put(20)"
      ],
      "metadata": {
        "id": "VzclDXNN890x"
      },
      "execution_count": 34,
      "outputs": []
    },
    {
      "cell_type": "code",
      "source": [
        "q.get()"
      ],
      "metadata": {
        "colab": {
          "base_uri": "https://localhost:8080/"
        },
        "id": "AD41IL4K9wnd",
        "outputId": "9d5c2f51-2732-4a8a-ee01-17df690b0b84"
      },
      "execution_count": 37,
      "outputs": [
        {
          "output_type": "execute_result",
          "data": {
            "text/plain": [
              "10"
            ]
          },
          "metadata": {},
          "execution_count": 37
        }
      ]
    },
    {
      "cell_type": "code",
      "source": [
        "q.get()"
      ],
      "metadata": {
        "colab": {
          "base_uri": "https://localhost:8080/"
        },
        "id": "GoqFkNr79y48",
        "outputId": "5739452b-b008-4c0f-fbe4-c7a31e3052d4"
      },
      "execution_count": 38,
      "outputs": [
        {
          "output_type": "execute_result",
          "data": {
            "text/plain": [
              "20"
            ]
          },
          "metadata": {},
          "execution_count": 38
        }
      ]
    },
    {
      "cell_type": "code",
      "source": [
        "q.get()"
      ],
      "metadata": {
        "colab": {
          "base_uri": "https://localhost:8080/"
        },
        "id": "mELtqqRw94k4",
        "outputId": "3860f43d-6185-4f09-bc2e-8dd8cf659814"
      },
      "execution_count": 39,
      "outputs": [
        {
          "output_type": "execute_result",
          "data": {
            "text/plain": [
              "30"
            ]
          },
          "metadata": {},
          "execution_count": 39
        }
      ]
    },
    {
      "cell_type": "code",
      "source": [
        "q.get()"
      ],
      "metadata": {
        "colab": {
          "base_uri": "https://localhost:8080/"
        },
        "id": "cYxPqEGH96ZJ",
        "outputId": "d8859cf9-787d-49cb-da50-7daf91f0dfdf"
      },
      "execution_count": 40,
      "outputs": [
        {
          "output_type": "execute_result",
          "data": {
            "text/plain": [
              "60"
            ]
          },
          "metadata": {},
          "execution_count": 40
        }
      ]
    },
    {
      "cell_type": "code",
      "source": [],
      "metadata": {
        "id": "G9wCmkTm97ig"
      },
      "execution_count": null,
      "outputs": []
    }
  ]
}