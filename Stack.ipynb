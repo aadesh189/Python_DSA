{
  "nbformat": 4,
  "nbformat_minor": 0,
  "metadata": {
    "colab": {
      "provenance": [],
      "toc_visible": true,
      "authorship_tag": "ABX9TyN5l7raDjBvB6AxxAlMfu3S",
      "include_colab_link": true
    },
    "kernelspec": {
      "name": "python3",
      "display_name": "Python 3"
    },
    "language_info": {
      "name": "python"
    }
  },
  "cells": [
    {
      "cell_type": "markdown",
      "metadata": {
        "id": "view-in-github",
        "colab_type": "text"
      },
      "source": [
        "<a href=\"https://colab.research.google.com/github/aadesh189/Python_DSA/blob/main/Stack.ipynb\" target=\"_parent\"><img src=\"https://colab.research.google.com/assets/colab-badge.svg\" alt=\"Open In Colab\"/></a>"
      ]
    },
    {
      "cell_type": "markdown",
      "source": [
        "# **Stack**\n",
        "It is orderd collection of item where addition of new item and removal of new item allways taken place at the same end, that is called as \"TOP\" and opposite is know was \"BASE\".\n",
        "\n",
        "**It store items in Last In First Out(LIFO) or (First In Last Out)**\n",
        "\n",
        "Operations in stack\n",
        "\n",
        "\n",
        "1.   Push\n",
        "2.   Pop\n",
        "3.   Peek or top\n",
        "4.   isEmpty\n",
        "5.   Size\n",
        "\n",
        "\n",
        "1. **Push**:- Adds the item to the top of the stack. If the stack is represented as a list, this operations can be implemented using the append() method.\n",
        "\n",
        "    Time complexity - Constant - O(1)\n",
        "\n",
        "2. **Pop**:- Removes the topmost item from the stack and return it. If the stack is implemented as a list, the pop() method is used.\n",
        "\n",
        "    Time complexity - Constant - O(1)\n",
        "\n",
        "3. **Peek**:- Also known as top(). It returns the topmost item of the stack without removing it. This can be done by accessing the last element of the list using [-1].\n",
        "\n",
        "    Time complexity - Constant - O(1)\n",
        "\n",
        "4. **isEmpty** - Returns true if the stack is empty, and false otherwise.\n",
        "\n",
        "    Time complexity - Constant - O(1)\n",
        "\n",
        "5. **size** - Returns the number of elements currently in the stack.\n",
        "\n",
        "    Time complexity - Constant - O(1)\n",
        "\n",
        "\n"
      ],
      "metadata": {
        "id": "5PBAoQSBnA0S"
      }
    },
    {
      "cell_type": "code",
      "source": [
        "#Push operation\n",
        "\n",
        "stack = []\n",
        "stack.append(10)\n",
        "stack.append(20)\n",
        "stack.append(30)\n",
        "stack.append(40)\n",
        "stack"
      ],
      "metadata": {
        "colab": {
          "base_uri": "https://localhost:8080/"
        },
        "id": "73fUHSsUnDys",
        "outputId": "4435a9a1-6498-4d0b-f72f-7808cec98ca9"
      },
      "execution_count": 8,
      "outputs": [
        {
          "output_type": "execute_result",
          "data": {
            "text/plain": [
              "[10, 20, 30, 40]"
            ]
          },
          "metadata": {},
          "execution_count": 8
        }
      ]
    },
    {
      "cell_type": "code",
      "source": [
        "#Pop operation\n",
        "\n",
        "stack.pop()"
      ],
      "metadata": {
        "colab": {
          "base_uri": "https://localhost:8080/"
        },
        "id": "--8stOXa5x9x",
        "outputId": "bfde2ed3-e726-4ded-a5ae-157fccf0d32c"
      },
      "execution_count": 9,
      "outputs": [
        {
          "output_type": "execute_result",
          "data": {
            "text/plain": [
              "40"
            ]
          },
          "metadata": {},
          "execution_count": 9
        }
      ]
    },
    {
      "cell_type": "code",
      "source": [
        "stack=[]\n",
        "len(stack)==0"
      ],
      "metadata": {
        "colab": {
          "base_uri": "https://localhost:8080/"
        },
        "id": "kVovTkq85-g7",
        "outputId": "b14eba2f-55c3-4374-a181-75da33daac87"
      },
      "execution_count": 10,
      "outputs": [
        {
          "output_type": "execute_result",
          "data": {
            "text/plain": [
              "True"
            ]
          },
          "metadata": {},
          "execution_count": 10
        }
      ]
    },
    {
      "cell_type": "code",
      "source": [
        "not stack #Means stack is not empty"
      ],
      "metadata": {
        "colab": {
          "base_uri": "https://localhost:8080/"
        },
        "id": "tVhm9R6Z6jYY",
        "outputId": "cab3cbf4-81d3-4d18-a9b5-e71892b21e2b"
      },
      "execution_count": 11,
      "outputs": [
        {
          "output_type": "execute_result",
          "data": {
            "text/plain": [
              "True"
            ]
          },
          "metadata": {},
          "execution_count": 11
        }
      ]
    },
    {
      "cell_type": "code",
      "source": [
        "#Access last element (top) element from stack\n",
        "stack.append(10)\n",
        "stack.append(10)\n",
        "stack.append(10)"
      ],
      "metadata": {
        "id": "Yd5xiYC16kik"
      },
      "execution_count": 13,
      "outputs": []
    },
    {
      "cell_type": "markdown",
      "source": [
        "# Implementation of stack using List"
      ],
      "metadata": {
        "id": "8twHaOwZ9CsG"
      }
    },
    {
      "cell_type": "code",
      "source": [
        "#Implementation of stack using List\n",
        "#All operation in single code\n",
        "stack = []\n",
        "def push():\n",
        "  element =  input(\"Enter the element: \")\n",
        "  stack.append(element)\n",
        "  return stack\n",
        "\n",
        "def pop_element():\n",
        "  if not stack:\n",
        "    print(\"Stack is empty\")\n",
        "  else:\n",
        "    e = stack.pop()\n",
        "    print(\"Removed element: \",e)\n",
        "    print(stack)\n",
        "\n",
        "while True:\n",
        "  print(\"Select the operation \\n1.Push\\n2.Pop\\n3.Quit\")\n",
        "  choice = int(input())\n",
        "  if choice == 1:\n",
        "    push()\n",
        "  elif choice == 2:\n",
        "    pop_element()\n",
        "  elif choice == 3:\n",
        "    break\n",
        "  else:\n",
        "    print(\"Enter the correct operation\")"
      ],
      "metadata": {
        "colab": {
          "base_uri": "https://localhost:8080/"
        },
        "id": "_fStrY7g61DE",
        "outputId": "f98a96ac-84a5-4f99-f1a7-592ef687efcb"
      },
      "execution_count": 14,
      "outputs": [
        {
          "name": "stdout",
          "output_type": "stream",
          "text": [
            "Select the operation \n",
            "1.Push\n",
            "2.Pop\n",
            "3.Quit\n",
            "1\n",
            "Enter the element: 12\n",
            "Select the operation \n",
            "1.Push\n",
            "2.Pop\n",
            "3.Quit\n",
            "2\n",
            "Removed element:  12\n",
            "[]\n",
            "Select the operation \n",
            "1.Push\n",
            "2.Pop\n",
            "3.Quit\n",
            "1\n",
            "Enter the element: 12,23,1,2,3,4,5,6\n",
            "Select the operation \n",
            "1.Push\n",
            "2.Pop\n",
            "3.Quit\n",
            "2\n",
            "Removed element:  12,23,1,2,3,4,5,6\n",
            "[]\n",
            "Select the operation \n",
            "1.Push\n",
            "2.Pop\n",
            "3.Quit\n",
            "1\n",
            "Enter the element: 10\n",
            "Select the operation \n",
            "1.Push\n",
            "2.Pop\n",
            "3.Quit\n",
            "1\n",
            "Enter the element: 20\n",
            "Select the operation \n",
            "1.Push\n",
            "2.Pop\n",
            "3.Quit\n",
            "1\n",
            "Enter the element: 30\n",
            "Select the operation \n",
            "1.Push\n",
            "2.Pop\n",
            "3.Quit\n",
            "2\n",
            "Removed element:  30\n",
            "['10', '20']\n",
            "Select the operation \n",
            "1.Push\n",
            "2.Pop\n",
            "3.Quit\n",
            "3\n"
          ]
        }
      ]
    },
    {
      "cell_type": "code",
      "source": [],
      "metadata": {
        "id": "pVbHDZ4f75l4"
      },
      "execution_count": null,
      "outputs": []
    },
    {
      "cell_type": "markdown",
      "source": [
        "# Implementation of stack using module"
      ],
      "metadata": {
        "id": "4Dx3jYpT9Jgz"
      }
    },
    {
      "cell_type": "code",
      "source": [
        "# Implementation of stack using deque module\n",
        "\n",
        "import collections\n",
        "stack = collections.deque()\n",
        "print(type(stack))\n",
        "\n",
        "stack.append(10)\n",
        "stack.append(20)\n",
        "stack.append(30)\n",
        "print(stack)"
      ],
      "metadata": {
        "colab": {
          "base_uri": "https://localhost:8080/"
        },
        "id": "9HeMvxa59OZk",
        "outputId": "7a531933-d365-450b-8fdb-543f27b7b249"
      },
      "execution_count": 16,
      "outputs": [
        {
          "output_type": "stream",
          "name": "stdout",
          "text": [
            "<class 'collections.deque'>\n",
            "deque([10, 20, 30])\n"
          ]
        }
      ]
    },
    {
      "cell_type": "code",
      "source": [],
      "metadata": {
        "id": "KBeOCX57LOzX"
      },
      "execution_count": null,
      "outputs": []
    }
  ]
}